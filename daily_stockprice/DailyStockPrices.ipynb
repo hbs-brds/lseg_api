{
 "cells": [
  {
   "cell_type": "markdown",
   "id": "2abdd46f-3394-469d-a8f0-97b53e3f881b",
   "metadata": {},
   "source": [
    "# Daily Stock Prices\n",
    "##### Purpose: Pull daily stock data using LSEG API for specified rics \n",
    "##### Input: List of stock closing price data from start to end date \n",
    "##### For information on the LSEG Eikon API: \n",
    "#####         --General: https://developers.lseg.com/en/api-catalog/eikon/eikon-data-api\n",
    "#####         --API Key: https://developers.lseg.com/en/article-catalog/article/consume-real-time-data-with-refinitiv-data-platform\n",
    "##### Contact: brds@hbs.edu\n"
   ]
  },
  {
   "cell_type": "markdown",
   "id": "9db6b96c-e91a-4a78-8a8d-8a1ec9e4b45d",
   "metadata": {},
   "source": [
    "## Set Up"
   ]
  },
  {
   "cell_type": "markdown",
   "id": "079d1dde-28ef-48eb-8f3c-f7dc1b0c18bf",
   "metadata": {
    "tags": []
   },
   "source": [
    "### Import Libraries"
   ]
  },
  {
   "cell_type": "code",
   "execution_count": null,
   "id": "660cdefc-76b8-480d-aaef-2e15b9283fc2",
   "metadata": {
    "tags": []
   },
   "outputs": [],
   "source": [
    "## Import \n",
    "import eikon as ek # Eikon Python wrapper package\n",
    "import pandas as pd \n",
    "from datetime import datetime, timedelta\n",
    "import sys\n",
    "import os\n",
    "import time\n",
    "import logging\n",
    "import IPython\n"
   ]
  },
  {
   "cell_type": "markdown",
   "id": "81ee04c9-4d0c-49bb-a909-bb4ae7a4118e",
   "metadata": {},
   "source": [
    "### Set API Key"
   ]
  },
  {
   "cell_type": "code",
   "execution_count": null,
   "id": "b71d8bc7-c33c-4285-aef3-88ca3b651bee",
   "metadata": {
    "tags": []
   },
   "outputs": [],
   "source": [
    "# Set API Key (see notes at top for how to obtain your API Key)\n",
    "api_key_file = \"Data\\API_Key.txt\"\n",
    "with open(api_key_file, 'r') as file:\n",
    "    api_key = file.read().strip()\n",
    "\n",
    "ek.set_app_key(api_key)\n",
    "\n",
    "# Or set API Key:  ek.set_app_key('YOUR_KEY_HERE') "
   ]
  },
  {
   "cell_type": "markdown",
   "id": "62de9a97-7eee-459d-86a1-1703d1572bb7",
   "metadata": {},
   "source": [
    "## Parameters"
   ]
  },
  {
   "cell_type": "markdown",
   "id": "bac8cc27-2038-4b07-abc1-f14ec208902b",
   "metadata": {},
   "source": [
    "### Import Data"
   ]
  },
  {
   "cell_type": "code",
   "execution_count": null,
   "id": "15a83e83-b33d-4e2a-b627-4b2895a3fa3b",
   "metadata": {
    "tags": []
   },
   "outputs": [],
   "source": [
    "# Import Ric List \n",
    "ric_list = pd.read_excel(\"Data\\Rics_List.xlsx\")\n",
    "display(ric_list.head(5))\n"
   ]
  },
  {
   "cell_type": "markdown",
   "id": "5cbac2d4-bff3-4df7-81de-4f37756c3a69",
   "metadata": {},
   "source": [
    "### Parameters"
   ]
  },
  {
   "cell_type": "code",
   "execution_count": null,
   "id": "4129f90a-eec9-4e30-aba5-d9d1d1c33590",
   "metadata": {},
   "outputs": [],
   "source": [
    "# Set Values\n",
    "## Chunk Size (set how many RICs to pull at once, based off how many days being pulled -- this helps respect API limits)\n",
    "chunk_size = 100 # Set Chunk size to respect API limits\n",
    "\n",
    "## Currency \n",
    "currency = 'USD' \n",
    "\n",
    "## Dates\n",
    "start_date_str = '2024-08-01'\n",
    "end_date_str = '2024-08-15'\n",
    "\n",
    "## Retry attempts if API fails \n",
    "max_retries = 3\n",
    "\n",
    "# Create Date variables from strings \n",
    "start_date = datetime.strptime(start_date_str, '%Y-%m-%d')\n",
    "end_date = datetime.strptime(end_date_str, '%Y-%m-%d')\n",
    "dates = pd.date_range(start=start_date_str, end=end_date_str).to_frame(index=False, name=\"Date\")\n",
    "\n",
    "\n"
   ]
  },
  {
   "cell_type": "markdown",
   "id": "14464b61",
   "metadata": {},
   "source": [
    "## Pull down data"
   ]
  },
  {
   "cell_type": "code",
   "execution_count": null,
   "id": "5262214d-ba2a-4d1e-b1ca-0c4404cb758a",
   "metadata": {},
   "outputs": [],
   "source": [
    "# Pull Down Vars\n",
    "## Loop thru each date (one day at a time), for chunk_size number of rics at a time \n",
    "\n",
    "## Set Loop Vars\n",
    "last = len(ric_list)\n",
    "data = pd.DataFrame()\n",
    "\n",
    "\n",
    "## Loop thru all dates \n",
    "current_date = start_date\n",
    "while current_date <= end_date: \n",
    "    # Set Dates:\n",
    "    current_date_str = current_date.strftime('%Y-%m-%d') # String of current date being looped on\n",
    "    close_param = f'TR.PriceClose(SDate={current_date_str},EDate={current_date_str},Frq=D, CURN:{currency})' # Parameter into get_data (closing price)\n",
    "    date_param = f'TR.PriceClose(SDate={current_date_str},EDate={current_date_str}, Frq=D).date' # Parameter entered into get_data (date of closing price)\n",
    "\n",
    "    ## Loop thru all rics\n",
    "    for start in range(0, last, chunk_size):\n",
    "        retries=0\n",
    "        end = start + chunk_size \n",
    "        ric_chunk = ric_list['RIC'].iloc[start:end].tolist() #The rics being pulled in this iteration of the loop \n",
    "\n",
    "        #Try pulling data 3 times (sometimes API has too many requests)\n",
    "        while retries < max_retries:\n",
    "            try:\n",
    "                \n",
    "                ## Pull Data \n",
    "                print(f\"Pulling...\")\n",
    "                data_chunk,e = ek.get_data(ric_chunk,\n",
    "                            [date_param,\n",
    "                             close_param])\n",
    "                \n",
    "                break\n",
    "\n",
    "\n",
    "            except Exception as e: \n",
    "                retries+=1 \n",
    "                print(f\"Attempt {retries} failed with error: {e}\")\n",
    "                if retries < max_retries: \n",
    "                    if retries < 3: \n",
    "                        wait_time = 15*retries \n",
    "                    else: \n",
    "                        wait_time = 60\n",
    "\n",
    "                    print(f\"Waiting {wait_time} seconds before retrying pull...\")\n",
    "                    time.sleep(wait_time) \n",
    "\n",
    "                else:\n",
    "                    print(\"Max retries reached. Moving to next chunk of rics\")                 \n",
    "\n",
    "        ## Create date column for the date we are requesting data for (\n",
    "        data_chunk['Date Requested'] = current_date\n",
    "\n",
    "        data = pd.concat([data, data_chunk])\n",
    "\n",
    "        print(\"Pulled - For date: \", current_date, \"Rows: \", end)\n",
    "\n",
    "        \n",
    "#                print(\"Error with date:\", current_date, \"  For rows: \", start, \" to \", end)\n",
    "        \n",
    "        # Adhere to API limits \n",
    "        time.sleep(2) \n",
    "\n",
    "    # Increment by 1 day and record data obtained \n",
    "    print(\"Obtained data for: \", current_date)\n",
    "    current_date += timedelta(days=1)\n",
    "\n",
    "print (\"Finished pulling data\")"
   ]
  },
  {
   "cell_type": "markdown",
   "id": "e11cf5aa-9fb9-4656-a2f6-1b35e61d29fb",
   "metadata": {},
   "source": [
    "## Clean Data"
   ]
  },
  {
   "cell_type": "markdown",
   "id": "2a5d6a50-f433-4ced-83c7-e11c77e20206",
   "metadata": {},
   "source": [
    "### Rename/Reorder columns"
   ]
  },
  {
   "cell_type": "code",
   "execution_count": null,
   "id": "0a4b4d7b-1747-4592-bd51-389e2416dae1",
   "metadata": {
    "tags": []
   },
   "outputs": [],
   "source": [
    "# Clean up data\n",
    "data_orig = data\n",
    "data.rename(columns={'Date':'Date Obtained'}, inplace =True)\n",
    "col_order = ['Instrument', 'Date Requested', 'Date Obtained', 'Price Close']\n",
    "data = data[col_order]\n",
    "data = data.sort_values(by=['Instrument', 'Date Requested'], ascending=[True, True])\n",
    "data['Date Obtained'] = pd.to_datetime(data['Date Obtained']).dt.date\n",
    "#data = data.drop_duplicates()       \n",
    "\n",
    "\n",
    "#Compare original vs clean data \n",
    "data_orig.info()\n",
    "data.info"
   ]
  },
  {
   "cell_type": "code",
   "execution_count": null,
   "id": "7b1c1e57-8e39-42d1-bd3e-677c63aef349",
   "metadata": {
    "tags": []
   },
   "outputs": [],
   "source": [
    "# Identify duplicates based on the combination of the pivoting indices and columns\n",
    "duplicate_mask = data.duplicated(subset=['Date Requested', 'Instrument'], keep=False)\n",
    "\n",
    "# Filter the DataFrame to get only the duplicated rows\n",
    "duplicates = data[duplicate_mask]\n",
    "\n",
    "# Print the duplicated rows\n",
    "print(duplicates)"
   ]
  },
  {
   "cell_type": "markdown",
   "id": "2ce3a4c6-ab98-486c-8c71-0f4bf23fb3ac",
   "metadata": {},
   "source": [
    "### Reshape Data to Wide"
   ]
  },
  {
   "cell_type": "code",
   "execution_count": null,
   "id": "101a8d87-9e11-4513-8342-f00566c66619",
   "metadata": {
    "tags": []
   },
   "outputs": [],
   "source": [
    "## Reshape Data \n",
    "data_wide = data.pivot(index='Date Requested', columns = 'Instrument')\n",
    "\n",
    "\n",
    "# Flatten the MultiIndex columns\n",
    "data_wide.columns = [f'{instr}_{col}' for col, instr in data_wide.columns]\n",
    "\n",
    "\n",
    "# Sort the columns based on instrument name\n",
    "sorted_columns = sorted(data_wide.columns)\n",
    "data_wide = data_wide[sorted_columns]\n",
    "\n",
    "# Reset the index to turn 'Date Requested' back into a column\n",
    "data_wide.reset_index(inplace=True)\n"
   ]
  },
  {
   "cell_type": "markdown",
   "id": "8cab327a-4d6e-4ef5-8e30-2fd43e23ac00",
   "metadata": {},
   "source": [
    "### Reshape Data to Wide"
   ]
  },
  {
   "cell_type": "markdown",
   "id": "7f5fdcbc",
   "metadata": {},
   "source": [
    "## View and Export Data"
   ]
  },
  {
   "cell_type": "code",
   "execution_count": null,
   "id": "a9f36379-65ec-42a8-8e35-24740c7e2acf",
   "metadata": {
    "tags": []
   },
   "outputs": [],
   "source": [
    "# View some Data\n",
    "display(data_wide.head(5))\n"
   ]
  },
  {
   "cell_type": "code",
   "execution_count": null,
   "id": "41c53d5a-3122-4a59-9bda-96f24862f6db",
   "metadata": {},
   "outputs": [],
   "source": []
  },
  {
   "cell_type": "code",
   "execution_count": null,
   "id": "b98dd9e8-a8ab-4d17-a565-44fc15a8e78a",
   "metadata": {},
   "outputs": [],
   "source": [
    "data.to_excel('Data/Output_DailyStockPrices_Long.xlsx')\n",
    "data_wide.to_excel('Data/Output_DailyStockPrices.xlsx')\n"
   ]
  },
  {
   "cell_type": "code",
   "execution_count": null,
   "id": "a99887d7-7e79-410f-a979-eb61dc40e099",
   "metadata": {},
   "outputs": [],
   "source": []
  }
 ],
 "metadata": {
  "kernelspec": {
   "display_name": "Python 3 (ipykernel)",
   "language": "python",
   "name": "python3"
  },
  "language_info": {
   "codemirror_mode": {
    "name": "ipython",
    "version": 3
   },
   "file_extension": ".py",
   "mimetype": "text/x-python",
   "name": "python",
   "nbconvert_exporter": "python",
   "pygments_lexer": "ipython3",
   "version": "3.11.5"
  },
  "widgets": {
   "application/vnd.jupyter.widget-state+json": {
    "state": {},
    "version_major": 2,
    "version_minor": 0
   }
  }
 },
 "nbformat": 4,
 "nbformat_minor": 5
}
